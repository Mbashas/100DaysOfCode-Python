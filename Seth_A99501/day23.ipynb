{
 "cells": [
  {
   "cell_type": "code",
   "execution_count": 4,
   "metadata": {},
   "outputs": [
    {
     "name": "stdout",
     "output_type": "stream",
     "text": [
      "You've entered a positive number 23.0\n"
     ]
    }
   ],
   "source": [
    "class NegativeValueError(Exception):\n",
    "    pass\n",
    "def get_positive_number():\n",
    "    while True:\n",
    "        number=float(input(\"Enter a positive number: \"))\n",
    "        if number < 0:\n",
    "            raise NegativeValueError(\"You have entered a negative number.\")\n",
    "        else:\n",
    "            return print(\"You've entered a positive number\", number)\n",
    "try:\n",
    "    num=get_positive_number()\n",
    "except NegativeValueError as e:\n",
    "    print(e)\n",
    "except ValueError as e:\n",
    "    #split the return error message to only capture the user inout that has an error\n",
    "    print(f\"You've entered {e.args[0].split(': ')[1]} which is neither positive nor negative.\")"
   ]
  },
  {
   "cell_type": "code",
   "execution_count": 5,
   "metadata": {},
   "outputs": [
    {
     "name": "stdout",
     "output_type": "stream",
     "text": [
      "You've entered 'Mine' which is neither positive nor negative.\n"
     ]
    }
   ],
   "source": [
    "class NegativeValueError(Exception):\n",
    "    pass\n",
    "def get_positive_number():\n",
    "    while True:\n",
    "        number=float(input(\"Enter a positive number: \"))\n",
    "        if number < 0:\n",
    "            raise NegativeValueError(\"You have entered a negative number.\")\n",
    "        else:\n",
    "            return print(\"You've entered a positive number\", number)\n",
    "try:\n",
    "    num=get_positive_number()\n",
    "except NegativeValueError as e:\n",
    "    print(e)\n",
    "except ValueError as e:\n",
    "    #split the return error message to only capture the user inout that has an error\n",
    "    print(f\"You've entered {e.args[0].split(': ')[1]} which is neither positive nor negative.\")"
   ]
  },
  {
   "cell_type": "code",
   "execution_count": 6,
   "metadata": {},
   "outputs": [
    {
     "name": "stdout",
     "output_type": "stream",
     "text": [
      "You have entered a negative number.\n"
     ]
    }
   ],
   "source": [
    "class NegativeValueError(Exception):\n",
    "    pass\n",
    "def get_positive_number():\n",
    "    while True:\n",
    "        number=float(input(\"Enter a positive number: \"))\n",
    "        if number < 0:\n",
    "            raise NegativeValueError(\"You have entered a negative number.\")\n",
    "        else:\n",
    "            return print(\"You've entered a positive number\", number)\n",
    "try:\n",
    "    num=get_positive_number()\n",
    "except NegativeValueError as e:\n",
    "    print(e)\n",
    "except ValueError as e:\n",
    "    #split the return error message to only capture the user inout that has an error\n",
    "    print(f\"You've entered {e.args[0].split(': ')[1]} which is neither positive nor negative.\")"
   ]
  }
 ],
 "metadata": {
  "kernelspec": {
   "display_name": "Python 3",
   "language": "python",
   "name": "python3"
  },
  "language_info": {
   "codemirror_mode": {
    "name": "ipython",
    "version": 3
   },
   "file_extension": ".py",
   "mimetype": "text/x-python",
   "name": "python",
   "nbconvert_exporter": "python",
   "pygments_lexer": "ipython3",
   "version": "3.11.6"
  }
 },
 "nbformat": 4,
 "nbformat_minor": 2
}
