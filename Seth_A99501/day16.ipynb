{
 "cells": [
  {
   "cell_type": "code",
   "execution_count": 12,
   "metadata": {},
   "outputs": [
    {
     "name": "stdout",
     "output_type": "stream",
     "text": [
      "{'item1': {'name': 'Laptop', 'Quantity': 10}, 'item2': {'name': 'shoes', 'Quantity': 45}, 'item4': {'name': 'router', 'size': 60008}}\n"
     ]
    }
   ],
   "source": [
    "inventory={'item1':{'name':'Laptop','Quantity':10},'item2':{'name':'phone','Quantity':20}}\n",
    "#add an itemes to the dictionary.\n",
    "inventory['item3'] = {'name':'table', 'size':1600}\n",
    "inventory['item4'] = {'name':'router', 'size':60008}\n",
    "#updating items in the dictionary\n",
    "inventory.update({'item2':{'name':'shoes','Quantity':45}})\n",
    "#updating items in the dictionary\n",
    "inventory.pop('item3')\n",
    "print(inventory)"
   ]
  }
 ],
 "metadata": {
  "kernelspec": {
   "display_name": "Python 3",
   "language": "python",
   "name": "python3"
  },
  "language_info": {
   "codemirror_mode": {
    "name": "ipython",
    "version": 3
   },
   "file_extension": ".py",
   "mimetype": "text/x-python",
   "name": "python",
   "nbconvert_exporter": "python",
   "pygments_lexer": "ipython3",
   "version": "3.11.6"
  }
 },
 "nbformat": 4,
 "nbformat_minor": 2
}
