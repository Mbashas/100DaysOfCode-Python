{
 "cells": [
  {
   "cell_type": "code",
   "execution_count": 4,
   "metadata": {},
   "outputs": [
    {
     "name": "stdout",
     "output_type": "stream",
     "text": [
      "Customer Expextion:Negative value not allowed\n"
     ]
    }
   ],
   "source": [
    "class NegativeValueError(Exception):\n",
    "    pass\n",
    "def process_value(value):\n",
    "        if value < 0:\n",
    "            raise NegativeValueError(\"Negative value not allowed\")\n",
    "        else:\n",
    "            return print(\"You've entered a positive number\", value)\n",
    "try:\n",
    "    process_value(int(input(\"Enter a positive value\")))\n",
    "except NegativeValueError as e:\n",
    "    print(f\"Customer Expextion:{e}\")\n",
    "except ValueError as e:\n",
    "    #split the return error message to only capture the user inout that has an error\n",
    "    print(f\"You've entered {e.args[0].split(': ')[1]} which is neither positive nor negative.\")"
   ]
  }
 ],
 "metadata": {
  "kernelspec": {
   "display_name": "Python 3",
   "language": "python",
   "name": "python3"
  },
  "language_info": {
   "codemirror_mode": {
    "name": "ipython",
    "version": 3
   },
   "file_extension": ".py",
   "mimetype": "text/x-python",
   "name": "python",
   "nbconvert_exporter": "python",
   "pygments_lexer": "ipython3",
   "version": "3.11.6"
  }
 },
 "nbformat": 4,
 "nbformat_minor": 2
}
