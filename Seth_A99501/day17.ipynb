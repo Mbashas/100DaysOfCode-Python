{
 "cells": [
  {
   "cell_type": "code",
   "execution_count": 1,
   "metadata": {},
   "outputs": [
    {
     "name": "stdout",
     "output_type": "stream",
     "text": [
      "[{'Task1': {'Month': 'September', 'Activities': 'gyming', 'location': 'Parking', 'status': 'complete'}}, {'Task2': {'Month': 'October', 'Activities': 'swimming', 'location': 'Hotel', 'status': 'pending'}}]\n",
      "Status\n",
      "complete\n",
      "[{'Task1': {'Month': 'September', 'Activities': 'gyming', 'location': 'Parking', 'status': 'complete'}}, {'Task2': {'Month': 'October', 'Activities': 'swimming', 'location': 'Hotel', 'status': 'complete'}}, {'Task3': {'Month': 'January', 'Activities': 'dacing', 'location': 'Nkoyoyo', 'status': 'pending'}}]\n"
     ]
    }
   ],
   "source": [
    "TaskManager=[{\"Task1\":{\"Month\":\"September\",\"Activities\":\"gyming\",\"location\":\"Parking\", \"status\":\"complete\"}},\n",
    "             {\"Task2\":{\"Month\":\"October\",\"Activities\":\"swimming\", \"location\":\"Hotel\",\"status\":\"pending\"}}]\n",
    "print(TaskManager)\n",
    "#adding a task \n",
    "New_Task={\"Task3\":{\"Month\":\"January\",\"Activities\":\"dacing\",\"location\":\"Nkoyoyo\", \"status\":\"pending\"}}\n",
    "TaskManager.append(New_Task)\n",
    "\n",
    "\n",
    "\n",
    "#modifying the state\n",
    "for task in TaskManager:\n",
    "    if \"Task2\" in task:\n",
    "        task[\"Task2\"][\"status\"]=\"complete\"\n",
    "\n",
    "#accessing the data\n",
    "for status in TaskManager:\n",
    "    if \"Task2\" in status:\n",
    "        print('Status')\n",
    "        print(status[\"Task2\"][\"status\"])\n",
    "\n",
    "\n",
    "\n",
    "print(TaskManager)"
   ]
  },
  {
   "cell_type": "code",
   "execution_count": 1,
   "metadata": {},
   "outputs": [
    {
     "name": "stdout",
     "output_type": "stream",
     "text": [
      "Esmeralda Sullivan\n",
      "Esmeralda Norman\n",
      "Quinn Odonnell\n",
      "Alexander Bryan\n",
      "Colten Schultz\n",
      "Margaret Cooke\n",
      "Victoria Gilbert\n",
      "Charity Ray\n",
      "Adam Pollard\n"
     ]
    }
   ],
   "source": [
    "#read and display data\n",
    "FileName=\"names.txt\"\n",
    "with open(FileName,'r') as file:\n",
    "    content=file.read()\n",
    "    print('The names are:')\n",
    "    print(content)"
   ]
  }
 ],
 "metadata": {
  "kernelspec": {
   "display_name": "Python 3",
   "language": "python",
   "name": "python3"
  },
  "language_info": {
   "codemirror_mode": {
    "name": "ipython",
    "version": 3
   },
   "file_extension": ".py",
   "mimetype": "text/x-python",
   "name": "python",
   "nbconvert_exporter": "python",
   "pygments_lexer": "ipython3",
   "version": "3.11.6"
  }
 },
 "nbformat": 4,
 "nbformat_minor": 2
}
