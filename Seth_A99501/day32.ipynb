{
 "cells": [
  {
   "cell_type": "code",
   "execution_count": null,
   "metadata": {},
   "outputs": [],
   "source": [
    "from abc import ABC, abstractmethod\n",
    "class Employee(ABC):\n",
    "    def __init__(self, employee_id, name, salary):\n",
    "        self.__employee_id = employee_id\n",
    "        self.__name = name\n",
    "        self.__salary = salary\n",
    "\n",
    "    # Getter method for employee ID\n",
    "    def get_employee_id(self):\n",
    "        return self.__employee_id\n",
    "\n",
    "    # Setter method for employee ID\n",
    "    def set_employee_id(self, employee_id):\n",
    "        self.__employee_id = employee_id\n",
    "\n",
    "    # Getter method for name\n",
    "    def get_name(self):\n",
    "        return self.__name\n",
    "\n",
    "    # Setter method for name with validation\n",
    "    def set_name(self, name):\n",
    "         self.__name = name\n",
    "\n",
    "    # Getter method for salary\n",
    "    def get_salary(self):\n",
    "        return self.__salary\n",
    "\n",
    "    # Setter method for salary\n",
    "    def set_salary(self, salary):\n",
    "        self.__salary = salary\n",
    "\n",
    "employee1 = Employee(1, \"Alisha Tukole\", 50000)\n",
    "print(\"Employee ID:\", employee1.get_employee_id())\n",
    "print(\"Employee Name:\", employee1.get_name())\n",
    "print(\"Employee Salary:\", employee1.get_salary())"
   ]
  }
 ],
 "metadata": {
  "language_info": {
   "name": "python"
  }
 },
 "nbformat": 4,
 "nbformat_minor": 2
}
