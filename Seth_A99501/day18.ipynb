{
 "cells": [
  {
   "cell_type": "code",
   "execution_count": 1,
   "metadata": {},
   "outputs": [
    {
     "name": "stdout",
     "output_type": "stream",
     "text": [
      "The names are:\n",
      "Esmeralda Sullivan\n",
      "Esmeralda Norman\n",
      "Quinn Odonnell\n",
      "Alexander Bryan\n",
      "Colten Schultz\n",
      "Margaret Cooke\n",
      "Victoria Gilbert\n",
      "Charity Ray\n",
      "Adam Pollard\n"
     ]
    }
   ],
   "source": [
    "#read and display data\n",
    "FileName=\"names.txt\"\n",
    "with open(FileName,'r') as file:\n",
    "    content=file.read()\n",
    "    print('The names are:')\n",
    "    print(content)"
   ]
  }
 ],
 "metadata": {
  "kernelspec": {
   "display_name": "Python 3",
   "language": "python",
   "name": "python3"
  },
  "language_info": {
   "codemirror_mode": {
    "name": "ipython",
    "version": 3
   },
   "file_extension": ".py",
   "mimetype": "text/x-python",
   "name": "python",
   "nbconvert_exporter": "python",
   "pygments_lexer": "ipython3",
   "version": "3.11.6"
  }
 },
 "nbformat": 4,
 "nbformat_minor": 2
}
