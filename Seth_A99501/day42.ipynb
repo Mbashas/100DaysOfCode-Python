{
 "cells": [
  {
   "cell_type": "code",
   "execution_count": 106,
   "metadata": {},
   "outputs": [
    {
     "name": "stdout",
     "output_type": "stream",
     "text": [
      "You have deposit: 1100\n",
      "Your account balance is: 1100\n",
      "\n",
      "You have withdrawn: 100\n",
      "Your new account ballance is: 1000\n",
      "\n",
      "You have deposit in your saving account: 600\n",
      "Your account balance is: 600\n",
      "\n",
      "You have withdrawn: 100\n",
      "Your new account ballance is: 500\n",
      "\n",
      "After calculating the interest, your new balance is: 525.0\n"
     ]
    }
   ],
   "source": [
    "class BankAccount():\n",
    "    def __init__(self,name,balance):\n",
    "        self._name=name\n",
    "        self._balance=balance\n",
    "    \n",
    "    def deposit(self,amount):\n",
    "        self._balance+= amount\n",
    "        print(amount)\n",
    "    def withdraw(self,amount):\n",
    "        if amount< self._balance:\n",
    "            self._balance-=amount\n",
    "            print(amount)\n",
    "        else:\n",
    "            print(\"Insufficitient amount\")\n",
    "class SavingAccount(BankAccount):\n",
    "    def __init__(self,name,balance,rate):\n",
    "        super().__init__(name,balance)\n",
    "        self.rate=rate\n",
    "            \n",
    "    def calculate_interest(self):\n",
    "        interest=self._balance*self.rate\n",
    "        self._balance+=interest\n",
    "\n",
    "account1=BankAccount(\"Mbasha\", 0)\n",
    "account2=SavingAccount(\"Mbasha\",0,0.05)\n",
    "\n",
    "print(\"You have deposit: \", end=\"\")\n",
    "account1.deposit(1100)\n",
    "print('Your account balance is: ', end=\"\")\n",
    "print(account1._balance)\n",
    "print()\n",
    "print(\"You have withdrawn: \",end=\"\")\n",
    "account1.withdraw(100)\n",
    "print('Your new account ballance is: ', end=\"\")\n",
    "print(account1._balance)\n",
    "print()\n",
    "#saving account operation\n",
    "print(\"You have deposit in your saving account: \", end=\"\")\n",
    "account2.deposit(600)\n",
    "print('Your account balance is: ', end=\"\")\n",
    "print(account2._balance)\n",
    "print()\n",
    "print(\"You have withdrawn: \",end=\"\")\n",
    "account2.withdraw(100)\n",
    "print('Your new account ballance is: ', end=\"\")\n",
    "print(account2._balance)\n",
    "print()\n",
    "#calculate the interset rate\n",
    "account2.calculate_interest()\n",
    "print(\"After calculating the interest, your new balance is: \", end=\"\")\n",
    "print(account2._balance)\n",
    "    \n",
    "    "
   ]
  }
 ],
 "metadata": {
  "kernelspec": {
   "display_name": "Python 3",
   "language": "python",
   "name": "python3"
  },
  "language_info": {
   "name": "python",
   "version": "3.11.6"
  }
 },
 "nbformat": 4,
 "nbformat_minor": 2
}
