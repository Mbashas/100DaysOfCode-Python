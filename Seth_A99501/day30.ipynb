{
 "cells": [
  {
   "cell_type": "code",
   "execution_count": 5,
   "metadata": {},
   "outputs": [
    {
     "name": "stdout",
     "output_type": "stream",
     "text": [
      "The average age of the students is  17.333333333333332\n"
     ]
    }
   ],
   "source": [
    "class Student:\n",
    "    def __init__(self,name,age,grade):\n",
    "        self.name=name\n",
    "        self.age=age\n",
    "        self.grade=grade\n",
    "        \n",
    "student1=Student(\"Mbasha\",12,78)\n",
    "student2=Student(\"Bigarura\",17,67)\n",
    "student3=Student(\"Seth\",23,64)\n",
    "\n",
    "#calculate the avarage age of students\n",
    "student_ages=[etudiant.age for etudiant in [student1, student2,student3]]\n",
    "# Calculate the average age of the students\n",
    "avg_age = sum(student_ages) / len(student_ages)\n",
    "\n",
    "# Print the average age\n",
    "\n",
    "print(\"The average age of the students is \",avg_age)"
   ]
  }
 ],
 "metadata": {
  "kernelspec": {
   "display_name": "Python 3",
   "language": "python",
   "name": "python3"
  },
  "language_info": {
   "codemirror_mode": {
    "name": "ipython",
    "version": 3
   },
   "file_extension": ".py",
   "mimetype": "text/x-python",
   "name": "python",
   "nbconvert_exporter": "python",
   "pygments_lexer": "ipython3",
   "version": "3.11.6"
  }
 },
 "nbformat": 4,
 "nbformat_minor": 2
}
