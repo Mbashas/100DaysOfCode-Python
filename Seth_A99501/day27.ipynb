{
 "cells": [
  {
   "cell_type": "code",
   "execution_count": 9,
   "id": "d6dedf04-e731-454b-8bdd-245d24505c92",
   "metadata": {},
   "outputs": [
    {
     "name": "stdout",
     "output_type": "stream",
     "text": [
      "Sum of elements: 55\n",
      "Mean of elements: 5.5\n",
      "Maximum value: 10\n"
     ]
    }
   ],
   "source": [
    "import numpy as np\n",
    "\n",
    "# Create a NumPy array with integers from 1 to 10\n",
    "arr = np.array([1, 2, 3, 4, 5, 6, 7, 8, 9, 10])\n",
    "\n",
    "# Find the sum of all the elements in the array\n",
    "sum_of_elements = np.sum(arr)\n",
    "\n",
    "# Calculate the mean of the array\n",
    "mean_of_elements = np.mean(arr)\n",
    "\n",
    "# Find the maximum value in the array\n",
    "max_value = np.max(arr)\n",
    "\n",
    "print(\"Sum of elements:\", sum_of_elements)\n",
    "print(\"Mean of elements:\", mean_of_elements)\n",
    "print(\"Maximum value:\", max_value)\n"
   ]
  }
 ],
 "metadata": {
  "kernelspec": {
   "display_name": "Python 3 (ipykernel)",
   "language": "python",
   "name": "python3"
  },
  "language_info": {
   "codemirror_mode": {
    "name": "ipython",
    "version": 3
   },
   "file_extension": ".py",
   "mimetype": "text/x-python",
   "name": "python",
   "nbconvert_exporter": "python",
   "pygments_lexer": "ipython3",
   "version": "3.11.5"
  }
 },
 "nbformat": 4,
 "nbformat_minor": 5
}
