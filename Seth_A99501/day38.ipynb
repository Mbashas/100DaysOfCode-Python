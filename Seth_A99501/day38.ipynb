{
 "cells": [
  {
   "cell_type": "code",
   "execution_count": 3,
   "metadata": {},
   "outputs": [
    {
     "name": "stdout",
     "output_type": "stream",
     "text": [
      "You have selected a dog named: Max, species Bulldog with activity level High\n",
      "Woof🐶\n",
      "You have selected a cat named: Luna, species Sphynx with a life span 20\n",
      "Meow🐈\n",
      "You have selected a bird named: Seto, species Barred owl with brown and white plumage\n",
      "Whoo-Whoo-Whoo 🦅\n",
      "You have selected an eagle named: Fally Ipupa, species El Rey Mago with 7\n",
      "Screech 🦅\n"
     ]
    }
   ],
   "source": [
    "class Animal:\n",
    "    def __init__(self,name,species):\n",
    "        self.name=name\n",
    "        self.species=species\n",
    "class Dog(Animal):\n",
    "    def __init__(self,name,species,activity_level):\n",
    "        super().__init__(name,species)\n",
    "        self.activity_level=activity_level\n",
    "        \n",
    "    def speak(self):\n",
    "        print(\"Woof🐶\")  \n",
    "class Cat(Animal):\n",
    "    def __init__(self,name,species,life_span):\n",
    "        super().__init__(name,species)\n",
    "        self.life_span=life_span\n",
    "    def speak(self):\n",
    "        print(\"Meow🐈\")\n",
    "        \n",
    "class Bird(Animal):\n",
    "    def __init__(self,name,species,color):\n",
    "        super().__init__(name,species)\n",
    "        self.color=color\n",
    "    def fly(self):\n",
    "        print(\"Whoo-Whoo-Whoo 🦅\")\n",
    "class Eagle(Animal):\n",
    "    def __init__(self,name,species,wing_span):\n",
    "        super().__init__(name,species)\n",
    "        self.wing_span=wing_span\n",
    "        \n",
    "    def make_sound(self):\n",
    "        print(\"Screech 🦅\")\n",
    "        \n",
    "dog1=Dog(\"Max\",\"Bulldog\",\"High\")\n",
    "cat1=Cat(\"Luna\",\"Sphynx\",20)\n",
    "bird1=Bird(\"Seto\",\"Barred owl\",\"brown and white plumage\")\n",
    "eag1 = Eagle(\"Fally Ipupa\", \"El Rey Mago\", 7)\n",
    "\n",
    "print(f\"You have selected a dog named: {dog1.name}, species {dog1.species} with activity level {dog1.activity_level}\")\n",
    "dog1.speak()\n",
    "print(f\"You have selected a cat named: {cat1.name}, species {cat1.species} with a life span {cat1.life_span}\")\n",
    "cat1.speak()\n",
    "print(f\"You have selected a bird named: {bird1.name}, species {bird1.species} with {bird1.color}\")\n",
    "bird1.fly()          \n",
    "print(f\"You have selected an eagle named: {eag1.name}, species {eag1.species} with {eag1.wing_span}\")\n",
    "eag1.make_sound()\n",
    "\n",
    "\n",
    "\n",
    "            "
   ]
  },
  {
   "cell_type": "code",
   "execution_count": null,
   "metadata": {},
   "outputs": [],
   "source": []
  }
 ],
 "metadata": {
  "kernelspec": {
   "display_name": "Python 3",
   "language": "python",
   "name": "python3"
  },
  "language_info": {
   "codemirror_mode": {
    "name": "ipython",
    "version": 3
   },
   "file_extension": ".py",
   "mimetype": "text/x-python",
   "name": "python",
   "nbconvert_exporter": "python",
   "pygments_lexer": "ipython3",
   "version": "3.11.6"
  }
 },
 "nbformat": 4,
 "nbformat_minor": 2
}
