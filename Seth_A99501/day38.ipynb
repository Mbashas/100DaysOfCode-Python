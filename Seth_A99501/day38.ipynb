{
 "cells": [
  {
   "cell_type": "code",
   "execution_count": 3,
   "metadata": {},
   "outputs": [
    {
     "name": "stdout",
     "output_type": "stream",
     "text": [
      "You have selected a dog named: Max, species Bulldog with activity level High\n",
      "Woof🐶\n",
      "You have selected a cat named: Luna, species Sphynx with a life span 20\n",
      "Meow🐈\n",
      "You have selected a bird named: Seto, species Barred owl with brown and white plumage\n",
      "Whoo-Whoo-Whoo 🦅\n",
      "You have selected an eagle named: Fally Ipupa, species El Rey Mago with 7\n",
      "Screech 🦅\n"
     ]
    }
   ],
   "source": [
    "class Animal:\n",
    "    def __init__(self,name,species):\n",
    "        self.name=name\n",
    "        self.species=species\n",
    "class Dog(Animal):\n",
    "    def __init__(self,name,species,activity_level):\n",
    "        super().__init__(name,species)\n",
    "        self.activity_level=activity_level\n",
    "        \n",
    "    def speak(self):\n",
    "        print(\"Woof🐶\")  \n",
    "class Cat(Animal):\n",
    "    def __init__(self,name,species,life_span):\n",
    "        super().__init__(name,species)\n",
    "        self.life_span=life_span\n",
    "    def speak(self):\n",
    "        print(\"Meow🐈\")\n",
    "        \n",
    "class Bird(Animal):\n",
    "    def __init__(self,name,species,color):\n",
    "        super().__init__(name,species)\n",
    "        self.color=color\n",
    "    def fly(self):\n",
    "        print(\"Whoo-Whoo-Whoo 🦅\")\n",
    "class Eagle(Animal):\n",
    "    def __init__(self,name,species,wing_span):\n",
    "        super().__init__(name,species)\n",
    "        self.wing_span=wing_span\n",
    "        \n",
    "    def make_sound(self):\n",
    "        print(\"Screech 🦅\")\n",
    "        \n",
    "dog1=Dog(\"Max\",\"Bulldog\",\"High\")\n",
    "cat1=Cat(\"Luna\",\"Sphynx\",20)\n",
    "bird1=Bird(\"Seto\",\"Barred owl\",\"brown and white plumage\")\n",
    "eag1 = Eagle(\"Fally Ipupa\", \"El Rey Mago\", 7)\n",
    "\n",
    "print(f\"You have selected a dog named: {dog1.name}, species {dog1.species} with activity level {dog1.activity_level}\")\n",
    "dog1.speak()\n",
    "print(f\"You have selected a cat named: {cat1.name}, species {cat1.species} with a life span {cat1.life_span}\")\n",
    "cat1.speak()\n",
    "print(f\"You have selected a bird named: {bird1.name}, species {bird1.species} with {bird1.color}\")\n",
    "bird1.fly()          \n",
    "print(f\"You have selected an eagle named: {eag1.name}, species {eag1.species} with {eag1.wing_span}\")\n",
    "eag1.make_sound()\n",
    "\n",
    "\n",
    "\n",
    "            "
   ]
  },
  {
   "cell_type": "code",
   "execution_count": null,
   "metadata": {},
   "outputs": [],
   "source": []
  },
  {
   "cell_type": "code",
   "execution_count": 8,
   "metadata": {},
   "outputs": [
    {
     "ename": "AttributeError",
     "evalue": "'Rectangle' object has no attribute '_Rectangle__length'",
     "output_type": "error",
     "traceback": [
      "\u001b[1;31m---------------------------------------------------------------------------\u001b[0m",
      "\u001b[1;31mAttributeError\u001b[0m                            Traceback (most recent call last)",
      "\u001b[1;32mc:\\Users\\seth\\Desktop\\100Days\\100DaysOfCode-Python\\Seth_A99501\\day38.ipynb Cell 3\u001b[0m line \u001b[0;36m2\n\u001b[0;32m     <a href='vscode-notebook-cell:/c%3A/Users/seth/Desktop/100Days/100DaysOfCode-Python/Seth_A99501/day38.ipynb#W2sZmlsZQ%3D%3D?line=23'>24</a>\u001b[0m circle \u001b[39m=\u001b[39m Circle(\u001b[39m9\u001b[39m)\n\u001b[0;32m     <a href='vscode-notebook-cell:/c%3A/Users/seth/Desktop/100Days/100DaysOfCode-Python/Seth_A99501/day38.ipynb#W2sZmlsZQ%3D%3D?line=25'>26</a>\u001b[0m \u001b[39m# Calculate and print areas\u001b[39;00m\n\u001b[1;32m---> <a href='vscode-notebook-cell:/c%3A/Users/seth/Desktop/100Days/100DaysOfCode-Python/Seth_A99501/day38.ipynb#W2sZmlsZQ%3D%3D?line=26'>27</a>\u001b[0m \u001b[39mprint\u001b[39m(rectangle\u001b[39m.\u001b[39;49mcalculate_area())\n\u001b[0;32m     <a href='vscode-notebook-cell:/c%3A/Users/seth/Desktop/100Days/100DaysOfCode-Python/Seth_A99501/day38.ipynb#W2sZmlsZQ%3D%3D?line=27'>28</a>\u001b[0m \u001b[39mprint\u001b[39m(circle\u001b[39m.\u001b[39mcalculate_area())\n",
      "\u001b[1;32mc:\\Users\\seth\\Desktop\\100Days\\100DaysOfCode-Python\\Seth_A99501\\day38.ipynb Cell 3\u001b[0m line \u001b[0;36m1\n\u001b[0;32m     <a href='vscode-notebook-cell:/c%3A/Users/seth/Desktop/100Days/100DaysOfCode-Python/Seth_A99501/day38.ipynb#W2sZmlsZQ%3D%3D?line=11'>12</a>\u001b[0m \u001b[39mdef\u001b[39;00m \u001b[39mcalculate_area\u001b[39m(\u001b[39mself\u001b[39m):\n\u001b[1;32m---> <a href='vscode-notebook-cell:/c%3A/Users/seth/Desktop/100Days/100DaysOfCode-Python/Seth_A99501/day38.ipynb#W2sZmlsZQ%3D%3D?line=12'>13</a>\u001b[0m     \u001b[39mreturn\u001b[39;00m \u001b[39mself\u001b[39;49m\u001b[39m.\u001b[39;49m__length\u001b[39m*\u001b[39m\u001b[39mself\u001b[39m\u001b[39m.\u001b[39m__width\n",
      "\u001b[1;31mAttributeError\u001b[0m: 'Rectangle' object has no attribute '_Rectangle__length'"
     ]
    }
   ],
   "source": [
    "import math\n",
    "\n",
    "class Shape:\n",
    "    def __init__(self, length,width=None):\n",
    "        self.__length=length\n",
    "        self.__width=width\n",
    "        \n",
    "    def calculate_area(self):\n",
    "        pass  # To be overridden by subclasses\n",
    "\n",
    "class Rectangle(Shape):\n",
    "    def calculate_area(self):\n",
    "        return self.__length*self.__width\n",
    "    \n",
    "\n",
    "class Circle(Shape):\n",
    "    def __init__(self,radius):\n",
    "        super().__init__(radius)\n",
    "    def calculate_area(self):\n",
    "        return math.pi * (self.__radius** 2)\n",
    "\n",
    "# Create instances of Rectangle and Circle\n",
    "rectangle = Rectangle(9,8)\n",
    "circle = Circle(9)\n",
    "\n",
    "# Calculate and print areas\n",
    "print(rectangle.calculate_area())\n",
    "print(circle.calculate_area())\n"
   ]
  },
  {
   "cell_type": "code",
   "execution_count": 9,
   "metadata": {},
   "outputs": [
    {
     "name": "stdout",
     "output_type": "stream",
     "text": [
      "72\n",
      "254.46900494077323\n"
     ]
    }
   ],
   "source": [
    "import math\n",
    "\n",
    "class Shape:\n",
    "    def __init__(self, length, width):\n",
    "        self.__length = length\n",
    "        self.__width = width\n",
    "\n",
    "    def calculate_area(self):\n",
    "        pass  # To be overridden by subclasses\n",
    "\n",
    "class Rectangle(Shape):\n",
    "    def calculate_area(self):\n",
    "        return self._Shape__length * self._Shape__width  # Access private attributes using name mangling\n",
    "\n",
    "class Circle(Shape):\n",
    "    def __init__(self, radius):\n",
    "        super().__init__(radius, None)  # Pass None as width for Circle\n",
    "        self.__radius = radius\n",
    "\n",
    "    def calculate_area(self):\n",
    "        return math.pi * (self.__radius ** 2)\n",
    "\n",
    "# Create instances of Rectangle and Circle\n",
    "rectangle = Rectangle(9, 8)\n",
    "circle = Circle(9)\n",
    "\n",
    "# Calculate and print areas\n",
    "print(rectangle.calculate_area())\n",
    "print(circle.calculate_area())\n"
   ]
  }
 ],
 "metadata": {
  "kernelspec": {
   "display_name": "Python 3",
   "language": "python",
   "name": "python3"
  },
  "language_info": {
   "codemirror_mode": {
    "name": "ipython",
    "version": 3
   },
   "file_extension": ".py",
   "mimetype": "text/x-python",
   "name": "python",
   "nbconvert_exporter": "python",
   "pygments_lexer": "ipython3",
   "version": "3.11.6"
  }
 },
 "nbformat": 4,
 "nbformat_minor": 2
}
