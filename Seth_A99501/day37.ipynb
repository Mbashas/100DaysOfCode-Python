{
 "cells": [
  {
   "cell_type": "code",
   "execution_count": 14,
   "metadata": {},
   "outputs": [
    {
     "name": "stdout",
     "output_type": "stream",
     "text": [
      "You have selected a dog named: Max, species Bulldog with activity level High\n",
      "You have selected a dog named: Luna, species Sphynx with a life span 20\n",
      "You have selected a bird named: Seto, species Barred owl with brown and white plumage\n",
      "\n",
      "Woof🐶\n",
      "Meow🐈\n",
      "Whoo-Whoo-Whoo 🦅\n"
     ]
    }
   ],
   "source": [
    "class Animal:\n",
    "    def __init__(self,name,species):\n",
    "        self.name=name\n",
    "        self.species=species\n",
    "class Dog(Animal):\n",
    "    def __init__(self,name,species,activity_level):\n",
    "        super().__init__(name,species)\n",
    "        self.activity_level=activity_level\n",
    "        \n",
    "    def speak(self):\n",
    "        print(\"Woof🐶\")  \n",
    "class Cat(Animal):\n",
    "    def __init__(self,name,species,life_span):\n",
    "        super().__init__(name,species)\n",
    "        self.life_span=life_span\n",
    "    def speak(self):\n",
    "        print(\"Meow🐈\")\n",
    "        \n",
    "class Bird(Animal):\n",
    "    def __init__(self,name,species,color):\n",
    "        super().__init__(name,species)\n",
    "        self.color=color\n",
    "    def fly(self):\n",
    "        print(\"Whoo-Whoo-Whoo 🦅\")\n",
    "        \n",
    "dog1=Dog(\"Max\",\"Bulldog\",\"High\")\n",
    "cat1=Cat(\"Luna\",\"Sphynx\",20)\n",
    "bird1=Bird(\"Seto\",\"Barred owl\",\"brown and white plumage\")\n",
    "print(f\"You have selected a dog named: {dog1.name}, species {dog1.species} with activity level {dog1.activity_level}\")\n",
    "print(f\"You have selected a dog named: {cat1.name}, species {cat1.species} with a life span {cat1.life_span}\")\n",
    "print(f\"You have selected a bird named: {bird1.name}, species {bird1.species} with {bird1.color}\")\n",
    "print()\n",
    "dog1.speak()\n",
    "cat1.speak()\n",
    "bird1.fly()\n",
    "            "
   ]
  },
  {
   "cell_type": "code",
   "execution_count": null,
   "metadata": {},
   "outputs": [],
   "source": []
  }
 ],
 "metadata": {
  "language_info": {
   "name": "python"
  }
 },
 "nbformat": 4,
 "nbformat_minor": 2
}
