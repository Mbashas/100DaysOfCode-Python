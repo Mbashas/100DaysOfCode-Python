{
 "cells": [
  {
   "cell_type": "code",
   "execution_count": null,
   "metadata": {},
   "outputs": [],
   "source": [
    "try:\n",
    "    #get the numerator and denominator from the user.\n",
    "    numerator = float(input(\"Enter the numerator: \"))\n",
    "    denominator = float(input(\"Enter the denominator: \"))\n",
    "    #divide the two numbers.\n",
    "    result = numerator / denominator\n",
    "except ZeroDivisionError:\n",
    "    print(\"Division by zero is not allowed.\")\n",
    "except ValueError:\n",
    "    print(\"Invalid input. Please enter correct numbers.\")\n",
    "else:\n",
    "    print(f'{numerator} divided by {denominator} is {result}.')\n",
    "\n"
   ]
  },
  {
   "cell_type": "code",
   "execution_count": 27,
   "metadata": {},
   "outputs": [
    {
     "name": "stdout",
     "output_type": "stream",
     "text": [
      "Max value is: 87\n"
     ]
    }
   ],
   "source": [
    "\n",
    "# list=[2,4,5,6,7,34,56,67,87,23,5]\n",
    "# max_value = list[0]\n",
    "# min_value = list[0]\n",
    "# for element in list:\n",
    "#     if element > max_value:\n",
    "#         max_value = element\n",
    "# print('Max value is:', max_value)\n",
    "#     # if element < min_value:\n",
    "#     #     min_value = element\n",
    "#     # print('Min value is:', element)\n",
    "    \n"
   ]
  },
  {
   "cell_type": "code",
   "execution_count": 36,
   "metadata": {},
   "outputs": [
    {
     "name": "stdout",
     "output_type": "stream",
     "text": [
      "87\n",
      "2\n"
     ]
    }
   ],
   "source": [
    "\n",
    "def max_min():\n",
    "    list=[2,4,5,6,7,34,56,67,87,23,5]\n",
    "    max_value=list[0]\n",
    "    min_value=list[0]\n",
    "    for i in range(len(list)):\n",
    "        if list[i] > max_value:\n",
    "            max_value=list[i]\n",
    "        elif list[i] < min_value:\n",
    "            min_value=list[i]\n",
    "    print(max_value)\n",
    "    print(min_value)\n",
    "max_min()"
   ]
  }
 ],
 "metadata": {
  "language_info": {
   "name": "python"
  }
 },
 "nbformat": 4,
 "nbformat_minor": 2
}
