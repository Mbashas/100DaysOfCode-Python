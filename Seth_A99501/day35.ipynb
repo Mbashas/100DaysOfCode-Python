{
 "cells": [
  {
   "cell_type": "code",
   "execution_count": 15,
   "metadata": {},
   "outputs": [
    {
     "name": "stdout",
     "output_type": "stream",
     "text": [
      "Sethos stays in ALX.\n",
      "Bolthas stays in TUIS.\n",
      "Sethos can drive.\n",
      "Bolthas cannot drive.\n",
      "Sethos cannot run.\n",
      "Bolthas can run.\n"
     ]
    }
   ],
   "source": [
    "class People():\n",
    "    def __init__(self, name, age, city, condition):\n",
    "        self.name = name\n",
    "        self.age = age\n",
    "        self.city = city\n",
    "        self.condition = condition\n",
    "\n",
    "    def drive(self):\n",
    "        if self.age >= 19:\n",
    "            print(f\"{self.name} can drive.\")\n",
    "        else:\n",
    "            print(f\"{self.name} cannot drive.\")\n",
    "\n",
    "    def run(self):\n",
    "        if self.condition != \"Disabled\":\n",
    "            print(f\"{self.name} can run.\")\n",
    "        else:\n",
    "            print(f\"{self.name} cannot run.\")\n",
    "\n",
    "pers1 = People(\"Sethos\", 20, \"ALX\", \"Disabled\")\n",
    "pers2 = People(\"Bolthas\", 15, \"TUIS\", \"able\")\n",
    "\n",
    "print(f\"{pers1.name} stays in {pers1.city}.\")\n",
    "print(f\"{pers2.name} stays in {pers2.city}.\")\n",
    "pers1.drive()\n",
    "pers2.drive()\n",
    "pers1.run()\n",
    "pers2.run()\n"
   ]
  }
 ],
 "metadata": {
  "kernelspec": {
   "display_name": "Python 3",
   "language": "python",
   "name": "python3"
  },
  "language_info": {
   "codemirror_mode": {
    "name": "ipython",
    "version": 3
   },
   "file_extension": ".py",
   "mimetype": "text/x-python",
   "name": "python",
   "nbconvert_exporter": "python",
   "pygments_lexer": "ipython3",
   "version": "3.11.6"
  }
 },
 "nbformat": 4,
 "nbformat_minor": 2
}
