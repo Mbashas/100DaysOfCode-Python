{
 "cells": [
  {
   "cell_type": "code",
   "execution_count": 1,
   "metadata": {},
   "outputs": [
    {
     "name": "stdout",
     "output_type": "stream",
     "text": [
      "In 100 days from today, we will be on: 2024-02-04\n"
     ]
    }
   ],
   "source": [
    "import datetime\n",
    "\n",
    "tday=datetime.date.today()\n",
    "#Specifying the number of days from the current date I want go to.\n",
    "tdelta=datetime.timedelta(days=100)\n",
    "#priting the date that is 100 days away from the current date\n",
    "print(\"In 100 days from today, we will be on:\",tday+tdelta)\n",
    "\n"
   ]
  }
 ],
 "metadata": {
  "kernelspec": {
   "display_name": "Python 3",
   "language": "python",
   "name": "python3"
  },
  "language_info": {
   "codemirror_mode": {
    "name": "ipython",
    "version": 3
   },
   "file_extension": ".py",
   "mimetype": "text/x-python",
   "name": "python",
   "nbconvert_exporter": "python",
   "pygments_lexer": "ipython3",
   "version": "3.11.6"
  }
 },
 "nbformat": 4,
 "nbformat_minor": 2
}
