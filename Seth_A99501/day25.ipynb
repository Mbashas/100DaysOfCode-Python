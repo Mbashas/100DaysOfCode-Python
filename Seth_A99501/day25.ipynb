{
 "cells": [
  {
   "cell_type": "code",
   "execution_count": 1,
   "metadata": {},
   "outputs": [
    {
     "name": "stdout",
     "output_type": "stream",
     "text": [
      "The factorial of 12 is 479001600\n"
     ]
    }
   ],
   "source": [
    "import math\n",
    "\n",
    "try:\n",
    "    num=int(input(\"Input a number\"))\n",
    "\n",
    "    #compute the factorial of the user input value\n",
    "    factorial_num=math.factorial(num)\n",
    "except ValueError:\n",
    "    print(\"Enter only positive value Eg.:1,3,6\")\n",
    "    \n",
    "else:\n",
    "    print(f\"The factorial of {num} is {factorial_num}\")"
   ]
  }
 ],
 "metadata": {
  "kernelspec": {
   "display_name": "Python 3",
   "language": "python",
   "name": "python3"
  },
  "language_info": {
   "codemirror_mode": {
    "name": "ipython",
    "version": 3
   },
   "file_extension": ".py",
   "mimetype": "text/x-python",
   "name": "python",
   "nbconvert_exporter": "python",
   "pygments_lexer": "ipython3",
   "version": "3.11.6"
  }
 },
 "nbformat": 4,
 "nbformat_minor": 2
}
