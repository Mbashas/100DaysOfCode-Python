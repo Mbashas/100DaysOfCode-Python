{
 "cells": [
  {
   "cell_type": "markdown",
   "metadata": {},
   "source": [
    "# Polymorphisim"
   ]
  },
  {
   "cell_type": "code",
   "execution_count": 1,
   "metadata": {},
   "outputs": [
    {
     "name": "stdout",
     "output_type": "stream",
     "text": [
      "Area of Rectangle: 10\n",
      "Area of Circle: 50.24\n"
     ]
    }
   ],
   "source": [
    "class Shape:\n",
    "    def calculate_area(self):\n",
    "        pass\n",
    "\n",
    "class Rectangle(Shape):\n",
    "    def calculate_area(self, length, width):\n",
    "        return length * width\n",
    "\n",
    "class Circle(Shape):\n",
    "    def calculate_area(self, radius):\n",
    "        return 3.14 * (radius ** 2)\n",
    "\n",
    "rect1 = Rectangle()\n",
    "circ1 = Circle()\n",
    "\n",
    "# function that calculates the area of all shapes\n",
    "def calculate_area_shape():\n",
    "    area_rect1 = rect1.calculate_area(2, 5)\n",
    "    area_circ1 = circ1.calculate_area(4)\n",
    "    return area_rect1, area_circ1\n",
    "\n",
    "rect_area, circ_area = calculate_area_shape()\n",
    "\n",
    "print(\"Area of Rectangle:\", rect_area)\n",
    "print(\"Area of Circle:\", circ_area)\n"
   ]
  }
 ],
 "metadata": {
  "kernelspec": {
   "display_name": "Python 3",
   "language": "python",
   "name": "python3"
  },
  "language_info": {
   "codemirror_mode": {
    "name": "ipython",
    "version": 3
   },
   "file_extension": ".py",
   "mimetype": "text/x-python",
   "name": "python",
   "nbconvert_exporter": "python",
   "pygments_lexer": "ipython3",
   "version": "3.11.6"
  }
 },
 "nbformat": 4,
 "nbformat_minor": 2
}
