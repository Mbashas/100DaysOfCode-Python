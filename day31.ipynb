{
 "cells": [
  {
   "cell_type": "code",
   "execution_count": 1,
   "metadata": {},
   "outputs": [
    {
     "name": "stdout",
     "output_type": "stream",
     "text": [
      "Molu WO WO WO\n",
      "Luitar Miaou Miaou\n"
     ]
    }
   ],
   "source": [
    "class Animal:\n",
    "    def speak(self):\n",
    "        pass\n",
    "class Dog(Animal):\n",
    "    def speak(self,name):\n",
    "        self.name=name\n",
    "        return f\"{self.name} WO WO WO\"\n",
    "    \n",
    "class Cat(Animal):    \n",
    "    def speak(self,name):\n",
    "        self.name=name\n",
    "        return f\"{self.name} Miaou Miaou\"\n",
    "dog1=Dog()\n",
    "cat1=Cat()\n",
    "print(dog1.speak(\"Molu\"))\n",
    "print(cat1.speak(\"Luitar\"))\n"
   ]
  }
 ],
 "metadata": {
  "kernelspec": {
   "display_name": "Python 3",
   "language": "python",
   "name": "python3"
  },
  "language_info": {
   "codemirror_mode": {
    "name": "ipython",
    "version": 3
   },
   "file_extension": ".py",
   "mimetype": "text/x-python",
   "name": "python",
   "nbconvert_exporter": "python",
   "pygments_lexer": "ipython3",
   "version": "3.11.6"
  }
 },
 "nbformat": 4,
 "nbformat_minor": 2
}
