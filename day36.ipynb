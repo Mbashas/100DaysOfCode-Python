{
 "cells": [
  {
   "cell_type": "code",
   "execution_count": 17,
   "metadata": {},
   "outputs": [
    {
     "name": "stdout",
     "output_type": "stream",
     "text": [
      "You have selected a dog named: Max, species Bulldog with activity level High\n",
      "You have selected a dog named: Luna, species Sphynx with a life span 20\n",
      "Woof🐶\n",
      "Meow🐈\n"
     ]
    }
   ],
   "source": [
    "class Animal:\n",
    "    def __init__(self,name,species):\n",
    "        self.name=name\n",
    "        self.species=species\n",
    "class Dog(Animal):\n",
    "    def __init__(self,name,species,activity_level):\n",
    "        super().__init__(name,species)\n",
    "        self.activity_level=activity_level\n",
    "        \n",
    "    def speak(self):\n",
    "        print(\"Woof🐶\")  \n",
    "class Cat(Animal):\n",
    "    def __init__(self,name,species,life_span):\n",
    "        super().__init__(name,species)\n",
    "        self.life_span=life_span\n",
    "    def speak(self):\n",
    "        print(\"Meow🐈\")\n",
    "        \n",
    "dog1=Dog(\"Max\",\"Bulldog\",\"High\")\n",
    "cat1=Cat(\"Luna\",\"Sphynx\",20)\n",
    "print(f\"You have selected a dog named: {dog1.name}, species {dog1.species} with activity level {dog1.activity_level}\")\n",
    "print(f\"You have selected a dog named: {cat1.name}, species {cat1.species} with a life span {cat1.life_span}\")\n",
    "dog1.speak()\n",
    "cat1.speak()\n",
    "            "
   ]
  }
 ],
 "metadata": {
  "kernelspec": {
   "display_name": "Python 3",
   "language": "python",
   "name": "python3"
  },
  "language_info": {
   "codemirror_mode": {
    "name": "ipython",
    "version": 3
   },
   "file_extension": ".py",
   "mimetype": "text/x-python",
   "name": "python",
   "nbconvert_exporter": "python",
   "pygments_lexer": "ipython3",
   "version": "3.11.6"
  }
 },
 "nbformat": 4,
 "nbformat_minor": 2
}
